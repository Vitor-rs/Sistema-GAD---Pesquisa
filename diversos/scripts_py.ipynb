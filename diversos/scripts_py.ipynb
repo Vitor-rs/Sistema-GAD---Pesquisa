{
 "cells": [
  {
   "cell_type": "code",
   "execution_count": null,
   "id": "ee44a8eb",
   "metadata": {},
   "outputs": [],
   "source": [
    "%pip install bs4"
   ]
  },
  {
   "cell_type": "code",
   "execution_count": 5,
   "id": "0bf1308d",
   "metadata": {},
   "outputs": [
    {
     "name": "stdout",
     "output_type": "stream",
     "text": [
      "False\n",
      "CSV gerado em: C:\\Users\\Vitor\\Documents\\GitHub\\Sistema-GAD---Pesquisa\\fontes\\recursos_ifms\\Laurentino\\Respostas_ao_formulario_1.csv\n"
     ]
    }
   ],
   "source": [
    "\n",
    "import os\n",
    "print(os.path.exists(html_path))\n",
    "import pandas as pd\n",
    "from bs4 import BeautifulSoup\n",
    "\n",
    "# Caminho do HTML\n",
    "html_path = r'C:\\Users\\Vitor\\Documents\\GitHub\\Sistema-GAD---Pesquisa\\fontes\\recursos_ifms\\Laurentino\\Atividades Diversificadas (respostas) - Laurentino - HTML\\Respostas_ao_formulario_1.html'\n",
    "csv_path = r'C:\\Users\\Vitor\\Documents\\GitHub\\Sistema-GAD---Pesquisa\\fontes\\recursos_ifms\\Laurentino\\Respostas_ao_formulario_1.csv'\n",
    "\n",
    "# Ler HTML\n",
    "with open(html_path, encoding='utf-8') as f:\n",
    "    soup = BeautifulSoup(f, 'html.parser')\n",
    "\n",
    "# Encontrar a tabela\n",
    "table = soup.find('table')\n",
    "rows = []\n",
    "for tr in table.find_all('tr'):\n",
    "    cols = []\n",
    "    for td in tr.find_all(['td', 'th']):\n",
    "        # Se houver link, pega o href\n",
    "        link = td.find('a')\n",
    "        if link and link.get('href'):\n",
    "            cols.append(link.get('href'))\n",
    "        else:\n",
    "            cols.append(td.get_text(strip=True))\n",
    "    if cols:\n",
    "        rows.append(cols)\n",
    "\n",
    "# Criar DataFrame e salvar CSV\n",
    "df = pd.DataFrame(rows[1:], columns=rows[0])  # Assume primeira linha como cabeçalho\n",
    "df.to_csv(csv_path, index=False)\n",
    "print('CSV gerado em:', csv_path)"
   ]
  }
 ],
 "metadata": {
  "kernelspec": {
   "display_name": "Python 3",
   "language": "python",
   "name": "python3"
  },
  "language_info": {
   "codemirror_mode": {
    "name": "ipython",
    "version": 3
   },
   "file_extension": ".py",
   "mimetype": "text/x-python",
   "name": "python",
   "nbconvert_exporter": "python",
   "pygments_lexer": "ipython3",
   "version": "3.13.5"
  }
 },
 "nbformat": 4,
 "nbformat_minor": 5
}
